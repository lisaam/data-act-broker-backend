{
 "cells": [
  {
   "cell_type": "markdown",
   "metadata": {},
   "source": [
    "# SQL-Based Validation Test"
   ]
  },
  {
   "cell_type": "markdown",
   "metadata": {},
   "source": [
    "## Notes\n",
    "\n",
    "Made the following local database changes so we could test out the SQL validations:\n",
    "* made a copy of the object_class table and put it in the staging database\n",
    "\n",
    "The queries are running in branch __sql_validation_tests__.\n",
    "\n",
    "SQL Gotchas:\n",
    "* Postgres doesn't like double quotes for strings\n",
    "* Be careful with NULL comparisons"
   ]
  },
  {
   "cell_type": "markdown",
   "metadata": {},
   "source": [
    "## B11\n",
    "Must be valid 3-digit object class as defined in OMB Circular A-11 Section 83.6, or a 4-digit code which includes a 1-digit prefix that distinguishes direct, reimbursable, and allocation obligations. Do not include decimal points when reporting in the Schema."
   ]
  },
  {
   "cell_type": "code",
   "execution_count": 76,
   "metadata": {
    "collapsed": false
   },
   "outputs": [
    {
     "name": "stdout",
     "output_type": "stream",
     "text": [
      "Submission id for test data = 5429\n"
     ]
    }
   ],
   "source": [
    "# setup\n",
    "from dataactcore.models.stagingModels import Appropriation, ObjectClassProgramActivity\n",
    "from dataactcore.models.stagingInterface import StagingInterface\n",
    "from sqlalchemy import text\n",
    "\n",
    "# run test data script that creates a fake submission with 3 TASs\n",
    "%run fake_data.py\n",
    "print ('Submission id for test data = {}'.format(submission_id))\n",
    "\n",
    "# get interface to staging db\n",
    "db = StagingInterface()\n",
    "\n",
    "# since the sql rule table doesn't exist in this branch,\n",
    "# create a dictionary to use as a stand-in\n",
    "\n",
    "# Part 1 of B11: find rows with an invalid object class\n",
    "rules = []\n",
    "sql_rule = {}\n",
    "sql_rule['rule_sql_id'] = 1\n",
    "sql_rule['rule_sql'] = 'SELECT awdf.row, awdf.objectclass '\\\n",
    "'FROM award_financial '\\\n",
    "'AS awdf WHERE awdf.submission_id = {} '\\\n",
    "'AND RIGHT(awdf.objectclass, 3) NOT IN ('\\\n",
    "'SELECT object_class_code FROM object_class);'\n",
    "sql_rule['rule_number'] = 'B11'\n",
    "sql_rule['rule_description'] = 'Must be valid 3-digit object class as defined in OMB Circular A-11.'\n",
    "sql_rule['rule_error_message'] = ''\n",
    "sql_rule['rule_critical_flag'] = True\n",
    "sql_rule['rule_crossfile_flag'] = False\n",
    "sql_rule['file_id'] = 4\n",
    "rules.append(sql_rule)\n",
    "\n",
    "\n",
    "# Part 2 of B11: for 4 digit object classes check direct/reimbursable\n",
    "sql_rule['rule_sql_id'] = 2\n",
    "sql_rule['rule_sql'] = \"SELECT awdf.row, awdf.objectclass FROM award_financial awdf WHERE awdf.submission_id = {} AND LENGTH(awdf.objectclass) = 4 AND ((RIGHT(awdf.objectclass,1) = '1' AND awdf.bydirectreimbursablefundingsource IS DISTINCT FROM 'D') OR (RIGHT(awdf.objectclass,1) = '2' AND awdf.bydirectreimbursablefundingsource IS DISTINCT FROM 'R'))\"\n",
    "sql_rule['rule_number'] = 'B11'\n",
    "sql_rule['rule_description'] = 'Object class code which includes a 1-digit prefix must correctly distinguishes direct, reimbursable, and allocation obligations.'\n",
    "sql_rule['rule_error_message'] = ''\n",
    "sql_rule['rule_critical_flag'] = True\n",
    "sql_rule['rule_crossfile_flag'] = False\n",
    "sql_rule['file_id'] = 4\n",
    "rules.append(sql_rule)"
   ]
  },
  {
   "cell_type": "code",
   "execution_count": 74,
   "metadata": {
    "collapsed": false
   },
   "outputs": [
    {
     "name": "stdout",
     "output_type": "stream",
     "text": [
      "\n",
      "There were 33 errors for rule B11\n",
      "Object class code which includes a 1-digit prefix must correctly distinguishes direct, reimbursable, and allocation obligations.:\n",
      "\n",
      "Row 7797 failed validation B11. Columns with errors: objectclass: 2251, fake col: bad data!\n",
      "Row 139 failed validation B11. Columns with errors: objectclass: 1252, fake col: bad data!\n",
      "Row 1461 failed validation B11. Columns with errors: objectclass: 2251, fake col: bad data!\n",
      "Row 252 failed validation B11. Columns with errors: objectclass: 1252, fake col: bad data!\n",
      "Row 2361 failed validation B11. Columns with errors: objectclass: 2251, fake col: bad data!\n",
      "Row 6734 failed validation B11. Columns with errors: objectclass: 2251, fake col: bad data!\n",
      "Row 306 failed validation B11. Columns with errors: objectclass: 1252, fake col: bad data!\n",
      "Row 4705 failed validation B11. Columns with errors: objectclass: 2251, fake col: bad data!\n",
      "Row 4593 failed validation B11. Columns with errors: objectclass: 1111, fake col: bad data!\n",
      "Row 6040 failed validation B11. Columns with errors: objectclass: 1111, fake col: bad data!\n",
      "Row 190 failed validation B11. Columns with errors: objectclass: 1252, fake col: bad data!\n",
      "Row 7969 failed validation B11. Columns with errors: objectclass: 2251, fake col: bad data!\n",
      "Row 2954 failed validation B11. Columns with errors: objectclass: 2251, fake col: bad data!\n",
      "Row 5414 failed validation B11. Columns with errors: objectclass: 1111, fake col: bad data!\n",
      "Row 4828 failed validation B11. Columns with errors: objectclass: 2251, fake col: bad data!\n",
      "Row 9358 failed validation B11. Columns with errors: objectclass: 1252, fake col: bad data!\n",
      "Row 718 failed validation B11. Columns with errors: objectclass: 2251, fake col: bad data!\n",
      "Row 608 failed validation B11. Columns with errors: objectclass: 1252, fake col: bad data!\n",
      "Row 9634 failed validation B11. Columns with errors: objectclass: 1252, fake col: bad data!\n",
      "Row 2933 failed validation B11. Columns with errors: objectclass: 1252, fake col: bad data!\n",
      "Row 5815 failed validation B11. Columns with errors: objectclass: 1252, fake col: bad data!\n",
      "Row 9879 failed validation B11. Columns with errors: objectclass: 1111, fake col: bad data!\n",
      "Row 2051 failed validation B11. Columns with errors: objectclass: 1111, fake col: bad data!\n",
      "Row 3161 failed validation B11. Columns with errors: objectclass: 2251, fake col: bad data!\n",
      "Row 2946 failed validation B11. Columns with errors: objectclass: 2251, fake col: bad data!\n",
      "Row 5399 failed validation B11. Columns with errors: objectclass: 1252, fake col: bad data!\n",
      "Row 782 failed validation B11. Columns with errors: objectclass: 2251, fake col: bad data!\n",
      "Row 4687 failed validation B11. Columns with errors: objectclass: 1252, fake col: bad data!\n",
      "Row 4711 failed validation B11. Columns with errors: objectclass: 1111, fake col: bad data!\n",
      "Row 5866 failed validation B11. Columns with errors: objectclass: 2251, fake col: bad data!\n",
      "Row 9548 failed validation B11. Columns with errors: objectclass: 1111, fake col: bad data!\n",
      "Row 6682 failed validation B11. Columns with errors: objectclass: 2251, fake col: bad data!\n",
      "Row 7411 failed validation B11. Columns with errors: objectclass: 1252, fake col: bad data!\n",
      "\n",
      "There were 33 errors for rule B11\n",
      "Object class code which includes a 1-digit prefix must correctly distinguishes direct, reimbursable, and allocation obligations.:\n",
      "\n",
      "Row 7797 failed validation B11. Columns with errors: objectclass: 2251, fake col: bad data!\n",
      "Row 139 failed validation B11. Columns with errors: objectclass: 1252, fake col: bad data!\n",
      "Row 1461 failed validation B11. Columns with errors: objectclass: 2251, fake col: bad data!\n",
      "Row 252 failed validation B11. Columns with errors: objectclass: 1252, fake col: bad data!\n",
      "Row 2361 failed validation B11. Columns with errors: objectclass: 2251, fake col: bad data!\n",
      "Row 6734 failed validation B11. Columns with errors: objectclass: 2251, fake col: bad data!\n",
      "Row 306 failed validation B11. Columns with errors: objectclass: 1252, fake col: bad data!\n",
      "Row 4705 failed validation B11. Columns with errors: objectclass: 2251, fake col: bad data!\n",
      "Row 4593 failed validation B11. Columns with errors: objectclass: 1111, fake col: bad data!\n",
      "Row 6040 failed validation B11. Columns with errors: objectclass: 1111, fake col: bad data!\n",
      "Row 190 failed validation B11. Columns with errors: objectclass: 1252, fake col: bad data!\n",
      "Row 7969 failed validation B11. Columns with errors: objectclass: 2251, fake col: bad data!\n",
      "Row 2954 failed validation B11. Columns with errors: objectclass: 2251, fake col: bad data!\n",
      "Row 5414 failed validation B11. Columns with errors: objectclass: 1111, fake col: bad data!\n",
      "Row 4828 failed validation B11. Columns with errors: objectclass: 2251, fake col: bad data!\n",
      "Row 9358 failed validation B11. Columns with errors: objectclass: 1252, fake col: bad data!\n",
      "Row 718 failed validation B11. Columns with errors: objectclass: 2251, fake col: bad data!\n",
      "Row 608 failed validation B11. Columns with errors: objectclass: 1252, fake col: bad data!\n",
      "Row 9634 failed validation B11. Columns with errors: objectclass: 1252, fake col: bad data!\n",
      "Row 2933 failed validation B11. Columns with errors: objectclass: 1252, fake col: bad data!\n",
      "Row 5815 failed validation B11. Columns with errors: objectclass: 1252, fake col: bad data!\n",
      "Row 9879 failed validation B11. Columns with errors: objectclass: 1111, fake col: bad data!\n",
      "Row 2051 failed validation B11. Columns with errors: objectclass: 1111, fake col: bad data!\n",
      "Row 3161 failed validation B11. Columns with errors: objectclass: 2251, fake col: bad data!\n",
      "Row 2946 failed validation B11. Columns with errors: objectclass: 2251, fake col: bad data!\n",
      "Row 5399 failed validation B11. Columns with errors: objectclass: 1252, fake col: bad data!\n",
      "Row 782 failed validation B11. Columns with errors: objectclass: 2251, fake col: bad data!\n",
      "Row 4687 failed validation B11. Columns with errors: objectclass: 1252, fake col: bad data!\n",
      "Row 4711 failed validation B11. Columns with errors: objectclass: 1111, fake col: bad data!\n",
      "Row 5866 failed validation B11. Columns with errors: objectclass: 2251, fake col: bad data!\n",
      "Row 9548 failed validation B11. Columns with errors: objectclass: 1111, fake col: bad data!\n",
      "Row 6682 failed validation B11. Columns with errors: objectclass: 2251, fake col: bad data!\n",
      "Row 7411 failed validation B11. Columns with errors: objectclass: 1252, fake col: bad data!\n"
     ]
    }
   ],
   "source": [
    "# loop through the sql rules \"table\"\n",
    "for r in rules:\n",
    "    sql = r['rule_sql']\n",
    "    result = db.engine.execute(sql.format(submission_id))\n",
    "    if result.returns_rows:\n",
    "        cols = result.keys()\n",
    "        cols.remove('row')\n",
    "        print ('\\nThere were {} errors for rule {}\\n{}:\\n'.format(\n",
    "                result.rowcount, r['rule_number'], r['rule_description']))\n",
    "        for row in result:\n",
    "            row_number = row['row']\n",
    "            values = ''\n",
    "            for c in cols:\n",
    "                values = values + '{}: {}, '.format(c, row[c])\n",
    "                # test scenario where there is more than 1 problematic column\n",
    "                values = values + '{}: {}'.format('fake col','bad data!')\n",
    "            # Print statement to demo how we could construct an error message\n",
    "            # using the current validator format by combining info in the \n",
    "            # sql rule table with data being returned by the validation query\n",
    "            print ('Row {} failed validation {}. Columns with errors: {}'.format(\n",
    "                    row_number, r['rule_number'], values))\n",
    "    else:\n",
    "        print ('Submission passed this rule, woo!')"
   ]
  },
  {
   "cell_type": "markdown",
   "metadata": {
    "collapsed": true
   },
   "source": [
    "\n",
    "## B12\n",
    "Reimbursable flag indicator is required when reporting obligation or outlay USSGL account balances (excluding downward adjustments USSGL accounts). Valid values are \"R\" for \"ReimbursableFundingSource\" and \"D\" for \"DirectFundingSource\".\n",
    "\n",
    "\n",
    "### B9\n",
    "Must be a valid program activity name for the corresponding TAS/TAFS as defined in Section 82 of OMB Circular A-11."
   ]
  }
 ],
 "metadata": {
  "kernelspec": {
   "display_name": "Python 2",
   "language": "python",
   "name": "python2"
  },
  "language_info": {
   "codemirror_mode": {
    "name": "ipython",
    "version": 2
   },
   "file_extension": ".py",
   "mimetype": "text/x-python",
   "name": "python",
   "nbconvert_exporter": "python",
   "pygments_lexer": "ipython2",
   "version": "2.7.9"
  }
 },
 "nbformat": 4,
 "nbformat_minor": 0
}
